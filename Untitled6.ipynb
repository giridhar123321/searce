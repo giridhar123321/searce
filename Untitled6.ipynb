{
  "nbformat": 4,
  "nbformat_minor": 0,
  "metadata": {
    "colab": {
      "name": "Untitled6.ipynb",
      "provenance": []
    },
    "kernelspec": {
      "name": "python3",
      "display_name": "Python 3"
    },
    "language_info": {
      "name": "python"
    }
  },
  "cells": [
    {
      "cell_type": "code",
      "metadata": {
        "id": "oOe7MAr2cIqv"
      },
      "source": [
        "import numpy as np"
      ],
      "execution_count": 1,
      "outputs": []
    },
    {
      "cell_type": "code",
      "metadata": {
        "id": "N0nP98AXCxdH"
      },
      "source": [
        "from scipy.linalg import solve"
      ],
      "execution_count": 2,
      "outputs": []
    },
    {
      "cell_type": "code",
      "metadata": {
        "id": "lqMbTQ99C2Jm"
      },
      "source": [
        "A = np.random.random((1, 2))"
      ],
      "execution_count": 3,
      "outputs": []
    },
    {
      "cell_type": "code",
      "metadata": {
        "colab": {
          "base_uri": "https://localhost:8080/"
        },
        "id": "2n8SV5atDCBN",
        "outputId": "70ea8ed2-66dd-42c8-8419-bdbf2a86718c"
      },
      "source": [
        "A"
      ],
      "execution_count": 4,
      "outputs": [
        {
          "output_type": "execute_result",
          "data": {
            "text/plain": [
              "array([[0.39504176, 0.50550908]])"
            ]
          },
          "metadata": {},
          "execution_count": 4
        }
      ]
    },
    {
      "cell_type": "code",
      "metadata": {
        "id": "1ndQ3oGaDE0b"
      },
      "source": [
        "B = np.random.random((2, 2))"
      ],
      "execution_count": 6,
      "outputs": []
    },
    {
      "cell_type": "code",
      "metadata": {
        "id": "_vfAV-LoDN09"
      },
      "source": [
        "C = np.random.random((2, 1))"
      ],
      "execution_count": 7,
      "outputs": []
    },
    {
      "cell_type": "code",
      "metadata": {
        "id": "qKc8t2KxDUgL"
      },
      "source": [
        "X=A*B*C"
      ],
      "execution_count": 9,
      "outputs": []
    },
    {
      "cell_type": "code",
      "metadata": {
        "id": "PX4D5jheD9i0"
      },
      "source": [
        ""
      ],
      "execution_count": null,
      "outputs": []
    },
    {
      "cell_type": "code",
      "metadata": {
        "colab": {
          "base_uri": "https://localhost:8080/"
        },
        "id": "pLU6-9fhDfAf",
        "outputId": "9141731d-cbf6-414c-848c-d34841c8fa7a"
      },
      "source": [
        "X"
      ],
      "execution_count": 10,
      "outputs": [
        {
          "output_type": "execute_result",
          "data": {
            "text/plain": [
              "array([[0.02667967, 0.1431076 ],\n",
              "       [0.10668002, 0.17202784]])"
            ]
          },
          "metadata": {},
          "execution_count": 10
        }
      ]
    },
    {
      "cell_type": "code",
      "metadata": {
        "id": "uOvC9kEkD-Mj"
      },
      "source": [
        "  X=0.35"
      ],
      "execution_count": 27,
      "outputs": []
    },
    {
      "cell_type": "code",
      "metadata": {
        "id": "1TrvNFFpEFp8"
      },
      "source": [
        "B = [[3, -1], [-2, 3]]"
      ],
      "execution_count": 12,
      "outputs": []
    },
    {
      "cell_type": "code",
      "metadata": {
        "id": "b9gcuKDBEHGi"
      },
      "source": [
        "C = [[0.2, 0.8]]"
      ],
      "execution_count": 20,
      "outputs": []
    },
    {
      "cell_type": "code",
      "metadata": {
        "id": "p4psCPGXEL5s"
      },
      "source": [
        "binv=scipy.linalg.inv(B)"
      ],
      "execution_count": 16,
      "outputs": []
    },
    {
      "cell_type": "code",
      "metadata": {
        "colab": {
          "base_uri": "https://localhost:8080/"
        },
        "id": "mY5fVaZ1EsPh",
        "outputId": "fcaf591f-dc72-45dc-8705-edeaa740859e"
      },
      "source": [
        "binv"
      ],
      "execution_count": 17,
      "outputs": [
        {
          "output_type": "execute_result",
          "data": {
            "text/plain": [
              "array([[0.42857143, 0.14285714],\n",
              "       [0.28571429, 0.42857143]])"
            ]
          },
          "metadata": {},
          "execution_count": 17
        }
      ]
    },
    {
      "cell_type": "code",
      "metadata": {
        "id": "LS34qETREo51"
      },
      "source": [
        "import scipy"
      ],
      "execution_count": 15,
      "outputs": []
    },
    {
      "cell_type": "code",
      "metadata": {
        "id": "w8sXv5JgH_xQ"
      },
      "source": [
        "btran=np.transpose(B)"
      ],
      "execution_count": 25,
      "outputs": []
    },
    {
      "cell_type": "code",
      "metadata": {
        "id": "bUQDgfy2M7Q1"
      },
      "source": [
        "ctran=np.transpose(C)"
      ],
      "execution_count": 26,
      "outputs": []
    },
    {
      "cell_type": "code",
      "metadata": {
        "id": "4MLSxcVnNUFl"
      },
      "source": [
        "bctran=btran*ctran"
      ],
      "execution_count": 30,
      "outputs": []
    },
    {
      "cell_type": "code",
      "metadata": {
        "id": "6-rFWHTYRnF3"
      },
      "source": [
        "import numpy as np"
      ],
      "execution_count": 33,
      "outputs": []
    },
    {
      "cell_type": "code",
      "metadata": {
        "id": "FE0X5XoFRril"
      },
      "source": [
        "from scipy import linalg"
      ],
      "execution_count": 34,
      "outputs": []
    },
    {
      "cell_type": "code",
      "metadata": {
        "id": "Zg97S9kNRrmJ"
      },
      "source": [
        "B = np.random.random((2, 2))"
      ],
      "execution_count": 35,
      "outputs": []
    },
    {
      "cell_type": "code",
      "metadata": {
        "id": "dysv9ErXRrpS"
      },
      "source": [
        "C = np.random.random((2, 1))"
      ],
      "execution_count": 36,
      "outputs": []
    },
    {
      "cell_type": "code",
      "metadata": {
        "colab": {
          "base_uri": "https://localhost:8080/"
        },
        "id": "e2CXGW5ASHJh",
        "outputId": "e06f5ae9-2ba2-4539-9d99-1eb410043657"
      },
      "source": [
        "linalg.inv(B).dot(C)"
      ],
      "execution_count": 37,
      "outputs": [
        {
          "output_type": "execute_result",
          "data": {
            "text/plain": [
              "array([[ 1.89387315],\n",
              "       [-0.5716183 ]])"
            ]
          },
          "metadata": {},
          "execution_count": 37
        }
      ]
    },
    {
      "cell_type": "code",
      "metadata": {
        "colab": {
          "base_uri": "https://localhost:8080/"
        },
        "id": "LNHQlEKUTgY-",
        "outputId": "d72c0c38-593b-44b0-83d3-7c32fb27d6ce"
      },
      "source": [
        "B.dot(linalg.inv(B).dot(C)) - C"
      ],
      "execution_count": 39,
      "outputs": [
        {
          "output_type": "execute_result",
          "data": {
            "text/plain": [
              "array([[ 0.00000000e+00],\n",
              "       [-2.77555756e-17]])"
            ]
          },
          "metadata": {},
          "execution_count": 39
        }
      ]
    },
    {
      "cell_type": "code",
      "metadata": {
        "colab": {
          "base_uri": "https://localhost:8080/"
        },
        "id": "1QEv7fACTslS",
        "outputId": "c7832adb-40fb-4f85-ce16-60ee4952f14a"
      },
      "source": [
        "np.linalg.solve(B, C)"
      ],
      "execution_count": 40,
      "outputs": [
        {
          "output_type": "execute_result",
          "data": {
            "text/plain": [
              "array([[ 1.89387315],\n",
              "       [-0.5716183 ]])"
            ]
          },
          "metadata": {},
          "execution_count": 40
        }
      ]
    },
    {
      "cell_type": "code",
      "metadata": {
        "colab": {
          "base_uri": "https://localhost:8080/"
        },
        "id": "Je9LbqmlTzZT",
        "outputId": "4d119775-ee18-4f13-a79b-25c9a7a91679"
      },
      "source": [
        "B.dot(np.linalg.solve(B, C)) - C"
      ],
      "execution_count": 41,
      "outputs": [
        {
          "output_type": "execute_result",
          "data": {
            "text/plain": [
              "array([[0.00000000e+00],\n",
              "       [2.77555756e-17]])"
            ]
          },
          "metadata": {},
          "execution_count": 41
        }
      ]
    },
    {
      "cell_type": "code",
      "metadata": {
        "id": "UgjEhmtxU7oE"
      },
      "source": [
        ""
      ],
      "execution_count": null,
      "outputs": []
    },
    {
      "cell_type": "code",
      "metadata": {
        "id": "48X9_qCGKIPU"
      },
      "source": [
        "A = [[0 for j in range(2)] for i in range(1)]"
      ],
      "execution_count": 23,
      "outputs": []
    },
    {
      "cell_type": "code",
      "metadata": {
        "colab": {
          "base_uri": "https://localhost:8080/"
        },
        "id": "wTa53HlxKLcx",
        "outputId": "70b54abd-b1f0-472f-a887-002d12f7c192"
      },
      "source": [
        "A"
      ],
      "execution_count": 24,
      "outputs": [
        {
          "output_type": "execute_result",
          "data": {
            "text/plain": [
              "[[0, 0]]"
            ]
          },
          "metadata": {},
          "execution_count": 24
        }
      ]
    }
  ]
}